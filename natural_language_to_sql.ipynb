{
  "nbformat": 4,
  "nbformat_minor": 0,
  "metadata": {
    "colab": {
      "provenance": []
    },
    "kernelspec": {
      "name": "python3",
      "display_name": "Python 3"
    },
    "language_info": {
      "name": "python"
    }
  },
  "cells": [
    {
      "cell_type": "markdown",
      "source": [
        "**Installing Required Dependencies**"
      ],
      "metadata": {
        "id": "fnzT4XklAajT"
      }
    },
    {
      "cell_type": "code",
      "execution_count": 1,
      "metadata": {
        "colab": {
          "base_uri": "https://localhost:8080/"
        },
        "id": "Vl9vimMH3nh9",
        "outputId": "d1395fe7-62fe-4f66-e7d3-f82d9c4529d0"
      },
      "outputs": [
        {
          "output_type": "stream",
          "name": "stdout",
          "text": [
            "Collecting openai==0.28\n",
            "  Downloading openai-0.28.0-py3-none-any.whl (76 kB)\n",
            "\u001b[2K     \u001b[90m━━━━━━━━━━━━━━━━━━━━━━━━━━━━━━━━━━━━━━━━\u001b[0m \u001b[32m76.5/76.5 kB\u001b[0m \u001b[31m1.9 MB/s\u001b[0m eta \u001b[36m0:00:00\u001b[0m\n",
            "\u001b[?25hRequirement already satisfied: pandas in /usr/local/lib/python3.10/dist-packages (2.0.3)\n",
            "Requirement already satisfied: requests>=2.20 in /usr/local/lib/python3.10/dist-packages (from openai==0.28) (2.31.0)\n",
            "Requirement already satisfied: tqdm in /usr/local/lib/python3.10/dist-packages (from openai==0.28) (4.66.4)\n",
            "Requirement already satisfied: aiohttp in /usr/local/lib/python3.10/dist-packages (from openai==0.28) (3.9.5)\n",
            "Requirement already satisfied: python-dateutil>=2.8.2 in /usr/local/lib/python3.10/dist-packages (from pandas) (2.8.2)\n",
            "Requirement already satisfied: pytz>=2020.1 in /usr/local/lib/python3.10/dist-packages (from pandas) (2023.4)\n",
            "Requirement already satisfied: tzdata>=2022.1 in /usr/local/lib/python3.10/dist-packages (from pandas) (2024.1)\n",
            "Requirement already satisfied: numpy>=1.21.0 in /usr/local/lib/python3.10/dist-packages (from pandas) (1.25.2)\n",
            "Requirement already satisfied: six>=1.5 in /usr/local/lib/python3.10/dist-packages (from python-dateutil>=2.8.2->pandas) (1.16.0)\n",
            "Requirement already satisfied: charset-normalizer<4,>=2 in /usr/local/lib/python3.10/dist-packages (from requests>=2.20->openai==0.28) (3.3.2)\n",
            "Requirement already satisfied: idna<4,>=2.5 in /usr/local/lib/python3.10/dist-packages (from requests>=2.20->openai==0.28) (3.7)\n",
            "Requirement already satisfied: urllib3<3,>=1.21.1 in /usr/local/lib/python3.10/dist-packages (from requests>=2.20->openai==0.28) (2.0.7)\n",
            "Requirement already satisfied: certifi>=2017.4.17 in /usr/local/lib/python3.10/dist-packages (from requests>=2.20->openai==0.28) (2024.6.2)\n",
            "Requirement already satisfied: aiosignal>=1.1.2 in /usr/local/lib/python3.10/dist-packages (from aiohttp->openai==0.28) (1.3.1)\n",
            "Requirement already satisfied: attrs>=17.3.0 in /usr/local/lib/python3.10/dist-packages (from aiohttp->openai==0.28) (23.2.0)\n",
            "Requirement already satisfied: frozenlist>=1.1.1 in /usr/local/lib/python3.10/dist-packages (from aiohttp->openai==0.28) (1.4.1)\n",
            "Requirement already satisfied: multidict<7.0,>=4.5 in /usr/local/lib/python3.10/dist-packages (from aiohttp->openai==0.28) (6.0.5)\n",
            "Requirement already satisfied: yarl<2.0,>=1.0 in /usr/local/lib/python3.10/dist-packages (from aiohttp->openai==0.28) (1.9.4)\n",
            "Requirement already satisfied: async-timeout<5.0,>=4.0 in /usr/local/lib/python3.10/dist-packages (from aiohttp->openai==0.28) (4.0.3)\n",
            "Installing collected packages: openai\n",
            "Successfully installed openai-0.28.0\n"
          ]
        }
      ],
      "source": [
        "!pip install openai==0.28 pandas\n"
      ]
    },
    {
      "cell_type": "markdown",
      "source": [
        "**Importing relevant modules**"
      ],
      "metadata": {
        "id": "aEIv_o6PAe_r"
      }
    },
    {
      "cell_type": "code",
      "source": [
        "import openai\n",
        "import pandas as pd\n",
        "import os\n",
        "import sqlite3"
      ],
      "metadata": {
        "id": "8MCuI0tI4iGz"
      },
      "execution_count": 2,
      "outputs": []
    },
    {
      "cell_type": "markdown",
      "source": [
        "**Setting up Environment Key for OpenAI**"
      ],
      "metadata": {
        "id": "QpKrHcE7Aknq"
      }
    },
    {
      "cell_type": "code",
      "source": [
        "os.environ[\"OPENAI_API_KEY\"] = \"\"\n",
        "openai.api_key = os.environ[\"OPENAI_API_KEY\"]"
      ],
      "metadata": {
        "id": "r7bzaxAy4kKz"
      },
      "execution_count": 6,
      "outputs": []
    },
    {
      "cell_type": "markdown",
      "source": [
        "**Helper Functions**"
      ],
      "metadata": {
        "id": "fCq-dQqhArCb"
      }
    },
    {
      "cell_type": "code",
      "source": [
        "def read_input_file(file_path):\n",
        "    with open(file_path, 'r') as file: # Open the file located at file_path in read mode ('r')\n",
        "        questions = file.readlines() # Read all lines from the file into a list\n",
        "    return [q.strip() for q in questions] # Strip leading/trailing whitespace from each question and return as a list"
      ],
      "metadata": {
        "id": "0CF6We4K99Fo"
      },
      "execution_count": 3,
      "outputs": []
    },
    {
      "cell_type": "code",
      "source": [
        "# Function to fetch table schema dynamically from the database\n",
        "def fetch_table_schema(connection, table_name):\n",
        "\n",
        "    ## establishing connection with database\n",
        "    cursor = connection.cursor()\n",
        "\n",
        "    ## query to get information of table schema\n",
        "    query = f\"PRAGMA table_info({table_name});\"\n",
        "\n",
        "    ## execute query\n",
        "    cursor.execute(query)\n",
        "\n",
        "    ## fetch all results of the query\n",
        "    schema_info = cursor.fetchall()\n",
        "\n",
        "    ## close connection to free up resources\n",
        "    cursor.close()\n",
        "\n",
        "    ## return column schema\n",
        "    return [(col[1], col[2]) for col in schema_info]"
      ],
      "metadata": {
        "id": "jL7VN7HhLnVr"
      },
      "execution_count": 5,
      "outputs": []
    },
    {
      "cell_type": "code",
      "source": [
        "def generate_sql_query(question, schema, table_name):\n",
        "\n",
        "    # Convert the schema into a string format for the prompt\n",
        "    schema_str = \", \".join([f\"{col} {dtype}\" for col, dtype in schema])\n",
        "\n",
        "    #prompt for the GPT model, including the schema and the natural language question\n",
        "    prompt = f\"\"\"\n",
        "            You are an SQL expert. Convert the following natural language question into an SQL query based on the given schema:\n",
        "\n",
        "            Schema:\n",
        "            {table_name}({schema_str})\n",
        "\n",
        "            Question: {question}\n",
        "\n",
        "            Provide the SQL Query in a concise and correct format, ensuring it matches the schema.\n",
        "            \"\"\"\n",
        "    # Send the prompt to the OpenAI API and get the response\n",
        "    response = openai.ChatCompletion.create(\n",
        "        model=\"gpt-3.5-turbo\",\n",
        "        messages=[\n",
        "            {\"role\": \"system\", \"content\": \"You are a helpful coding assistant that converts natural language questions into SQL queries.\"}, # Provide system-level instructions for the assistant\n",
        "            {\"role\": \"user\", \"content\": prompt} # Provide the user's input as a message\n",
        "        ],\n",
        "        max_tokens=100 # Limit the response length\n",
        "    )\n",
        "\n",
        "    # return the SQL query from the API response\n",
        "    return response.choices[0].message['content'].strip()\n",
        "\n",
        "\n"
      ],
      "metadata": {
        "id": "MwGau2w8AvcC"
      },
      "execution_count": 25,
      "outputs": []
    },
    {
      "cell_type": "code",
      "source": [
        "def optimize_sql_query(query):\n",
        "    # The prompt includes a description and the SQL query that needs to be optimized\n",
        "    prompt = f\"Analyze and optimize the following SQL query for performance improvements:\\n\\n\" \\\n",
        "             f\"SQL Query: {query}\\n\\n\" \\\n",
        "             f\"Optimized SQL Query and Suggestions:\"\n",
        "\n",
        "    # Make a request to the OpenAI API using the ChatCompletion endpoint\n",
        "    response = openai.ChatCompletion.create(\n",
        "        model=\"gpt-3.5-turbo\",\n",
        "        messages=[\n",
        "            {\"role\": \"system\", \"content\": \"You are a helpful coding assistant that optimizes SQL queries.\"}, # Provide system-level instructions for the assistant\n",
        "            {\"role\": \"user\", \"content\": prompt} # Provide the user's input as a message\n",
        "        ],\n",
        "        max_tokens=250 # Limit the response to a maximum of 150 tokens\n",
        "    )\n",
        "    return response.choices[0].message['content'].strip() # contains the assistant's reply with optimization techniques"
      ],
      "metadata": {
        "id": "NzhM5dfLAyaD"
      },
      "execution_count": 26,
      "outputs": []
    },
    {
      "cell_type": "code",
      "source": [
        "# Function to execute SQL query on the SQLite database and print the results\n",
        "def execute_sql_query(query, connection):\n",
        "    # Remove code block syntax if present\n",
        "    query = query.replace(\"```sql\", \"\").replace(\"```\", \"\").strip()\n",
        "\n",
        "    cursor = connection.cursor()\n",
        "    try:\n",
        "        cursor.execute(query)\n",
        "        results = cursor.fetchall()\n",
        "        for row in results:\n",
        "            print(row)\n",
        "    except sqlite3.Error as e:\n",
        "        print(f\"An error occurred: {e}\")\n",
        "    finally:\n",
        "        cursor.close()"
      ],
      "metadata": {
        "id": "Fc_WZ4ssEB1B"
      },
      "execution_count": 27,
      "outputs": []
    },
    {
      "cell_type": "markdown",
      "source": [
        "**Calling Functions to generate Sql queries based on Natural Language**"
      ],
      "metadata": {
        "id": "drzc_xZGBDp8"
      }
    },
    {
      "cell_type": "code",
      "source": [
        "# Read natural language questions from a file\n",
        "questions = read_input_file('/content/natural queries.txt')\n",
        "\n",
        "# Connect to the SQLite database\n",
        "connection = sqlite3.connect('/content/employee.db') ### you can establish connection with any of your db similarly, i added the db but you can remotely connect too by setting username, password, host etc\n",
        "\n",
        "\n",
        "table_name = 'Employee' ### Enter Table Name for which you want queries\n",
        "\n",
        "# Fetch the schema for the specified table\n",
        "schema = fetch_table_schema(connection, table_name) ### Fetch the schema\n",
        "\n",
        "# Iterate over each question, along with its index\n",
        "for idx, question in enumerate(questions):\n",
        "\n",
        "  # Print the question number and the question itself\n",
        "  print(f\"Question {idx+1}: {question}\")\n",
        "\n",
        "  # Generate an SQL query from the natural language question\n",
        "  sql_query = generate_sql_query(question,schema,table_name)\n",
        "\n",
        "\n",
        "  # Print the generated SQL query\n",
        "  print(f\"Generated SQL Query:\\n{sql_query}\\n\")\n",
        "\n",
        "  # Execute the generated SQL query and print the results\n",
        "  print(\"Results of Generated SQL Query:\")\n",
        "  execute_sql_query(sql_query, connection)\n",
        "  print(\"\\n\")\n",
        "\n",
        "  # Optimize the generated SQL query for performance improvements\n",
        "  optimized_query = optimize_sql_query(sql_query)\n",
        "\n",
        "  # Print the optimized SQL query and any suggestions\n",
        "  print(f\"Optimization Suggestions:\\n{optimized_query}\\n\")\n",
        "\n",
        "  # Print a separator line for readability\n",
        "  print(\"=\"*80)\n",
        "\n"
      ],
      "metadata": {
        "colab": {
          "base_uri": "https://localhost:8080/"
        },
        "id": "ODzctP8XA2mc",
        "outputId": "db511558-78b4-4575-d5a8-10115d4daf1b"
      },
      "execution_count": 28,
      "outputs": [
        {
          "output_type": "stream",
          "name": "stdout",
          "text": [
            "Question 1: Show me the top 5 highest-paid employees.\n",
            "Generated SQL Query:\n",
            "```sql\n",
            "SELECT *\n",
            "FROM Employee\n",
            "ORDER BY Salary DESC\n",
            "LIMIT 5;\n",
            "```\n",
            "\n",
            "Results of Generated SQL Query:\n",
            "(21, 'Alex', 'Johnson', 50, 'Management', 'CEO', 200000, '2010-01-01', None)\n",
            "(2, 'Jane', 'Doe', 34, 'Engineering', 'Developer', 95000, '2016-05-23', 6)\n",
            "(6, 'David', 'Jones', 38, 'Engineering', 'Manager', 95000, '2019-09-17', 1)\n",
            "(10, 'Robert', 'Rodriguez', 41, 'Engineering', 'QA', 95000, '2016-05-23', 6)\n",
            "(14, 'Richard', 'Gonzalez', 42, 'Engineering', 'DevOps', 95000, '2019-09-17', 6)\n",
            "\n",
            "\n",
            "Optimization Suggestions:\n",
            "To optimize the given SQL query for performance improvements, you can modify the query to only select the necessary columns instead of selecting all columns. This can reduce the amount of data that needs to be retrieved and can improve query performance.\n",
            "\n",
            "Here is the optimized SQL query:\n",
            "\n",
            "```sql\n",
            "SELECT EmployeeID, FirstName, LastName, Salary\n",
            "FROM Employee\n",
            "ORDER BY Salary DESC\n",
            "LIMIT 5;\n",
            "```\n",
            "\n",
            "By selecting only the columns EmployeeID, FirstName, LastName, and Salary, you are minimizing the data being retrieved which can lead to better query performance. Additionally, make sure there is an index on the Salary column to further optimize the sorting operation for the ORDER BY clause.\n",
            "\n",
            "================================================================================\n",
            "Question 2: Who is the youngest employee in the Engineering department?\n",
            "Generated SQL Query:\n",
            "```sql\n",
            "SELECT FirstName, LastName\n",
            "FROM Employee\n",
            "WHERE Age = (SELECT MIN(Age) FROM Employee WHERE Department = 'Engineering')\n",
            "AND Department = 'Engineering';\n",
            "```\n",
            "\n",
            "Results of Generated SQL Query:\n",
            "('Jane', 'Doe')\n",
            "\n",
            "\n",
            "Optimization Suggestions:\n",
            "To optimize the given SQL query, we can rewrite it using a JOIN operation to avoid the subquery in the WHERE clause. This can improve performance as subqueries tend to be less efficient compared to JOINs. Here is the optimized query along with some suggestions:\n",
            "\n",
            "1. Use JOIN instead of subquery:\n",
            "```sql\n",
            "SELECT e.FirstName, e.LastName\n",
            "FROM Employee e\n",
            "JOIN (\n",
            "    SELECT Department, MIN(Age) AS MinAge\n",
            "    FROM Employee\n",
            "    GROUP BY Department\n",
            ") AS dept_min_age\n",
            "ON e.Department = dept_min_age.Department\n",
            "WHERE e.Age = dept_min_age.MinAge AND e.Department = 'Engineering';\n",
            "```\n",
            "\n",
            "2. Use proper indexing:\n",
            "Ensure that there are indexes on the columns involved in filtering, such as Age and Department in the Employee table. Indexing can significantly improve query performance by allowing the database to quickly look up values.\n",
            "\n",
            "3. Update statistics:\n",
            "Regularly update table statistics to help the query optimizer make better decisions on how to execute the query efficiently.\n",
            "\n",
            "By following these suggestions and using the optimized query, you should see improved performance compared to the original SQL query.\n",
            "\n",
            "================================================================================\n",
            "Question 3: Find all employees who were hired in the year 2019.\n",
            "Generated SQL Query:\n",
            "```sql\n",
            "SELECT *\n",
            "FROM Employee\n",
            "WHERE YEAR(HireDate) = 2019;\n",
            "```\n",
            "\n",
            "Results of Generated SQL Query:\n",
            "An error occurred: no such function: YEAR\n",
            "\n",
            "\n",
            "Optimization Suggestions:\n",
            "To improve the performance of the query, you should avoid using functions in the WHERE clause because it can prevent the query optimizer from using indexes efficiently. Instead, you can rewrite the query to compare the HireDate directly with a specific date range to make use of indexes more effectively. Here's the optimized SQL query:\n",
            "\n",
            "```sql\n",
            "SELECT *\n",
            "FROM Employee\n",
            "WHERE HireDate >= '2019-01-01' AND HireDate < '2020-01-01';\n",
            "```\n",
            "\n",
            "This query retrieves all employees hired in the year 2019 by comparing the HireDate directly to a date range. This allows the database to utilize indexes if available and improve query performance.\n",
            "\n",
            "================================================================================\n",
            "Question 4: Show the names of employees whose salary is above the average salary in their department.\n",
            "Generated SQL Query:\n",
            "```sql\n",
            "SELECT FirstName, LastName\n",
            "FROM Employee\n",
            "WHERE Salary > (SELECT AVG(Salary) FROM Employee AS avg_salaries WHERE avg_salaries.Department = Employee.Department)\n",
            "```\n",
            "\n",
            "Results of Generated SQL Query:\n",
            "\n",
            "\n",
            "Optimization Suggestions:\n",
            "Optimized SQL Query and Suggestions:\n",
            "\n",
            "```sql\n",
            "SELECT e.FirstName, e.LastName\n",
            "FROM Employee e\n",
            "JOIN (\n",
            "    SELECT Department, AVG(Salary) AS avg_salary\n",
            "    FROM Employee\n",
            "    GROUP BY Department\n",
            ") AS avg_salaries ON e.Department = avg_salaries.Department\n",
            "WHERE e.Salary > avg_salaries.avg_salary\n",
            "```\n",
            "\n",
            "Suggestions for performance improvement:\n",
            "1. Instead of using a correlated subquery to calculate the average salary for each department individually, you can precalculate the average salaries for each department in a separate subquery and then join this result to the main Employee table.\n",
            "2. By precalculating the average salaries, you avoid the need to calculate them repeatedly for each row in the main query, which can improve performance significantly.\n",
            "3. Using JOIN with precalculated average salaries is more efficient compared to using a correlated subquery.\n",
            "\n",
            "================================================================================\n",
            "Question 5: Display the names of employees whose first and last names start with the same letter.\n",
            "Generated SQL Query:\n",
            "```sql\n",
            "SELECT FirstName, LastName\n",
            "FROM Employee\n",
            "WHERE LEFT(FirstName, 1) = LEFT(LastName, 1);\n",
            "```\n",
            "\n",
            "Results of Generated SQL Query:\n",
            "An error occurred: near \"(\": syntax error\n",
            "\n",
            "\n",
            "Optimization Suggestions:\n",
            "To improve the performance of the given query, we can modify it by avoiding using functions like `LEFT` in the `WHERE` clause since they can reduce the query's efficiency. \n",
            "\n",
            "Here's an optimized version of the query:\n",
            "\n",
            "```sql\n",
            "SELECT FirstName, LastName\n",
            "FROM Employee\n",
            "WHERE SUBSTRING(FirstName, 1, 1) = SUBSTRING(LastName, 1, 1);\n",
            "```\n",
            "\n",
            "To further optimize this query, you can consider adding an index on the `FirstName` and `LastName` columns to improve the query's performance if these columns are frequently used in such comparisons. This can help speed up the retrieval process by allowing the database to quickly locate the required rows without having to scan the entire table. \n",
            "\n",
            "Additionally, ensure that there are appropriate indexes on the columns used in the `WHERE` clause for efficient data retrieval.\n",
            "\n",
            "================================================================================\n",
            "Question 6: Find the employee with the highest salary in each department\n",
            "Generated SQL Query:\n",
            "```sql\n",
            "SELECT Department, MAX(Salary) AS Max_Salary\n",
            "FROM Employee\n",
            "GROUP BY Department;\n",
            "```\n",
            "\n",
            "Results of Generated SQL Query:\n",
            "('Engineering', 95000)\n",
            "('HR', 70000)\n",
            "('Management', 200000)\n",
            "('Marketing', 80000)\n",
            "('Sales', 85000)\n",
            "\n",
            "\n",
            "Optimization Suggestions:\n",
            "To optimize the SQL query, you can rewrite it using a window function to avoid scanning the Employee table multiple times. Here's an optimized version of the query:\n",
            "\n",
            "```sql\n",
            "WITH RankedEmployees AS (\n",
            "    SELECT Department, Salary,\n",
            "           ROW_NUMBER() OVER (PARTITION BY Department ORDER BY Salary DESC) AS rn\n",
            "    FROM Employee\n",
            ")\n",
            "SELECT Department, Salary AS Max_Salary\n",
            "FROM RankedEmployees\n",
            "WHERE rn = 1;\n",
            "```\n",
            "\n",
            "By using a window function like ROW_NUMBER(), we rank the employees within each department based on their salary in descending order. Then, we filter out only the employees with the highest salary in each department (indicated by rn = 1). This approach eliminates the need to aggregate the data using GROUP BY, which can improve performance especially with large datasets.\n",
            "\n",
            "Remember to create appropriate indexes on the Employee table for the Department and Salary columns to further enhance query performance.\n",
            "\n",
            "================================================================================\n"
          ]
        }
      ]
    }
  ]
}